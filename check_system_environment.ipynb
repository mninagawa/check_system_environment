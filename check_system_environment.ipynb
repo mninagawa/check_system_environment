{
  "nbformat": 4,
  "nbformat_minor": 0,
  "metadata": {
    "colab": {
      "name": "check_system_environment",
      "provenance": [],
      "collapsed_sections": [],
      "toc_visible": true,
      "include_colab_link": true
    },
    "kernelspec": {
      "name": "python3",
      "display_name": "Python 3"
    },
    "accelerator": "GPU"
  },
  "cells": [
    {
      "cell_type": "markdown",
      "metadata": {
        "id": "view-in-github",
        "colab_type": "text"
      },
      "source": [
        "<a href=\"https://colab.research.google.com/github/mninagawa/check_system_environment/blob/master/check_system_environment.ipynb\" target=\"_parent\"><img src=\"https://colab.research.google.com/assets/colab-badge.svg\" alt=\"Open In Colab\"/></a>"
      ]
    },
    {
      "cell_type": "markdown",
      "metadata": {
        "id": "PuYXjc6VTWD8",
        "colab_type": "text"
      },
      "source": [
        "# Check System Environment"
      ]
    },
    {
      "cell_type": "markdown",
      "metadata": {
        "id": "h-vPdDwwTmau",
        "colab_type": "text"
      },
      "source": [
        "## Authorize Google Colaboratory to use my own Google drive."
      ]
    },
    {
      "cell_type": "code",
      "metadata": {
        "id": "viW6JaXSfKy1",
        "colab_type": "code",
        "colab": {}
      },
      "source": [
        "from google.colab import drive\n",
        "drive.mount('/content/drive/')"
      ],
      "execution_count": 0,
      "outputs": []
    },
    {
      "cell_type": "markdown",
      "metadata": {
        "id": "cbuW2-qVUFGr",
        "colab_type": "text"
      },
      "source": [
        "## Setup Tensorflow version 2.0"
      ]
    },
    {
      "cell_type": "code",
      "metadata": {
        "id": "BIfT8-LkS4qd",
        "colab_type": "code",
        "colab": {}
      },
      "source": [
        "%tensorflow_version 2.x"
      ],
      "execution_count": 0,
      "outputs": []
    },
    {
      "cell_type": "markdown",
      "metadata": {
        "id": "R-GbCqwIUENz",
        "colab_type": "text"
      },
      "source": [
        "## Check GPU"
      ]
    },
    {
      "cell_type": "code",
      "metadata": {
        "id": "M2HrtS9O-0e4",
        "colab_type": "code",
        "colab": {}
      },
      "source": [
        "import tensorflow as tf\n",
        "tf.test.gpu_device_name()"
      ],
      "execution_count": 0,
      "outputs": []
    },
    {
      "cell_type": "markdown",
      "metadata": {
        "id": "DmucdhkNUT0b",
        "colab_type": "text"
      },
      "source": [
        "## Check GPU Type"
      ]
    },
    {
      "cell_type": "code",
      "metadata": {
        "id": "n_tHp8iV_6Ka",
        "colab_type": "code",
        "colab": {}
      },
      "source": [
        "from tensorflow.python.client import device_lib\n",
        "device_lib.list_local_devices()"
      ],
      "execution_count": 0,
      "outputs": []
    },
    {
      "cell_type": "markdown",
      "metadata": {
        "id": "K1wKAL8IUsVa",
        "colab_type": "text"
      },
      "source": [
        "## Check RAM Memory "
      ]
    },
    {
      "cell_type": "code",
      "metadata": {
        "id": "sII21eDc_93Q",
        "colab_type": "code",
        "colab": {}
      },
      "source": [
        "!cat /proc/meminfo"
      ],
      "execution_count": 0,
      "outputs": []
    },
    {
      "cell_type": "markdown",
      "metadata": {
        "id": "fnyFD5GPUyD4",
        "colab_type": "text"
      },
      "source": [
        "## Check CPU"
      ]
    },
    {
      "cell_type": "code",
      "metadata": {
        "id": "fUEPovf-AAsq",
        "colab_type": "code",
        "colab": {}
      },
      "source": [
        "!cat /proc/cpuinfo"
      ],
      "execution_count": 0,
      "outputs": []
    }
  ]
}